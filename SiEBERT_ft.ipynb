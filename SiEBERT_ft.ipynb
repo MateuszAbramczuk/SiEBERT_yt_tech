{
 "cells": [
  {
   "cell_type": "code",
   "execution_count": null,
   "metadata": {},
   "outputs": [],
   "source": [
    "import torch\n",
    "import os\n",
    "import pandas as pd\n",
    "import numpy as np\n",
    "from torch.utils.data import DataLoader, Dataset\n",
    "from transformers import RobertaTokenizer, RobertaModel, RobertaForSequenceClassification, AdamW, get_linear_schedule_with_warmup\n",
    "from sklearn.model_selection import train_test_split\n",
    "from sklearn.metrics import accuracy_score, recall_score, f1_score, confusion_matrix, classification_report, precision_score"
   ]
  },
  {
   "cell_type": "code",
   "execution_count": null,
   "metadata": {},
   "outputs": [],
   "source": [
    "df = pd.read_excel('/content/drive/MyDrive/Master/sentiment1.xlsx')\n",
    "df['textOriginal'] = df['textOriginal'].astype(str)\n",
    "df['sentiment'] = df['sentiment'].apply(lambda x: 1 if x > 0 else 0 if x <= 0 else x)\n",
    "df['title'] = df['title'].astype(str)\n",
    "df['video_or_channel'] = df['video_or_channel'].astype(int)\n",
    "df = df.dropna(subset='sentiment')\n",
    "df = df.dropna(subset=['why_sentiment'])\n",
    "df['why_sentiment'] = df['why_sentiment'].astype(str)\n",
    "df['sentiment'] = df['sentiment'].astype(int)\n",
    "df['comment'] = \"[CHANNEL]\" + df['channel_name'] + \"[WHY]\" + df['why_sentiment'] + \"[COMMENT]\" + df['textOriginal'] + \"[TITLE]\" + df['title']"
   ]
  },
  {
   "cell_type": "code",
   "execution_count": null,
   "metadata": {},
   "outputs": [],
   "source": [
    "SPECIAL_TOKENS = {\n",
    "    'channel': '[CHANNEL]',\n",
    "    'comment': '[COMMENT]',\n",
    "    'title': '[TITLE]',\n",
    "    'why': '[WHY]'\n",
    "}\n",
    "tokenizer = RobertaTokenizer.from_pretrained(\"siebert/sentiment-roberta-large-english\")\n",
    "tokenizer.add_special_tokens({'additional_special_tokens': list(SPECIAL_TOKENS.values())})"
   ]
  }
 ],
 "metadata": {
  "kernelspec": {
   "display_name": "master2",
   "language": "python",
   "name": "python3"
  },
  "language_info": {
   "name": "python",
   "version": "3.12.3"
  }
 },
 "nbformat": 4,
 "nbformat_minor": 2
}
